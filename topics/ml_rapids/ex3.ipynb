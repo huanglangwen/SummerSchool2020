{
 "cells": [
  {
   "cell_type": "markdown",
   "metadata": {},
   "source": [
    "## Exercise 3. GLMs, Logistic Regression\n",
    "\n",
    "1. Convince yourself, that, if we encode the binary outcome as $Y \\in {\\pm 1}$, the (conditional) log-likelihood under the logistic regression model simplifies to:\n",
    "\n",
    "$L(w) := \\log P(Y \\mid X, w) = \\sum_i \\log \\sigma(y_i \\Phi(x_i)^T w)$\n",
    "\n",
    "2. Convince yourself, that $\\sigma'(x) = \\sigma(x) (1 - \\sigma(x))$ for the logistic function. What is $\\nabla_w L(w)$?\n",
    "3. Fit a binary logistic regression model to the problem of distinguishing 4s vs 7s in the MNIST dataset.\n",
    "4. Plot some samples in the training set, where the model made a mistake"
   ]
  },
  {
   "cell_type": "code",
   "execution_count": 2,
   "metadata": {},
   "outputs": [],
   "source": [
    "import sklearn\n",
    "from sklearn.datasets import fetch_openml\n",
    "\n",
    "X, y = fetch_openml('mnist_784', version=1, return_X_y=True) \n",
    "X /= 255.0 # scale to 0-1 range\n",
    "y = sklearn.preprocessing.LabelEncoder().fit_transform(y)"
   ]
  },
  {
   "cell_type": "code",
   "execution_count": 11,
   "metadata": {},
   "outputs": [],
   "source": [
    "from sklearn.model_selection import train_test_split\n",
    "import numpy as np\n",
    "from sklearn.linear_model import LogisticRegression"
   ]
  },
  {
   "cell_type": "code",
   "execution_count": 7,
   "metadata": {},
   "outputs": [],
   "source": [
    "class_0 = 4\n",
    "class_1 = 7\n",
    "idx_ = np.logical_or((y == class_0), (y == class_1))\n",
    "\n",
    "X_= X[idx_,:]\n",
    "y_= y[idx_].astype(np.float64)\n",
    "y_[y_ == class_0] = 0.0\n",
    "y_[y_ == class_1] = 1.0\n",
    "X_train, X_test, y_train, y_test = train_test_split(X_,y_, random_state=77)"
   ]
  },
  {
   "cell_type": "code",
   "execution_count": 13,
   "metadata": {},
   "outputs": [
    {
     "name": "stderr",
     "output_type": "stream",
     "text": [
      "[Parallel(n_jobs=1)]: Using backend SequentialBackend with 1 concurrent workers.\n"
     ]
    },
    {
     "name": "stdout",
     "output_type": "stream",
     "text": [
      "Scikit score train: 0.9956550486445641, test: 0.9898016997167138\n"
     ]
    },
    {
     "name": "stderr",
     "output_type": "stream",
     "text": [
      "[Parallel(n_jobs=1)]: Done   1 out of   1 | elapsed:    0.9s finished\n"
     ]
    }
   ],
   "source": [
    "params = {'penalty':'l2','C':1,'tol':1e-4,'fit_intercept':True,'max_iter':2000,'verbose':True}\n",
    "cls = LogisticRegression(**params)\n",
    "cls.fit(X_train, y_train)\n",
    "print(f'Scikit score train: {cls.score(X_train,y_train)}, test: {cls.score(X_test,y_test)}')"
   ]
  },
  {
   "cell_type": "code",
   "execution_count": 14,
   "metadata": {},
   "outputs": [],
   "source": [
    "w = cls.coef_"
   ]
  },
  {
   "cell_type": "code",
   "execution_count": 20,
   "metadata": {},
   "outputs": [],
   "source": [
    "import matplotlib.pyplot as plt"
   ]
  },
  {
   "cell_type": "code",
   "execution_count": 21,
   "metadata": {},
   "outputs": [
    {
     "data": {
      "text/plain": [
       "<matplotlib.image.AxesImage at 0x1c0e29e8c08>"
      ]
     },
     "execution_count": 21,
     "metadata": {},
     "output_type": "execute_result"
    },
    {
     "data": {
      "image/png": "[encoded data removed]",
      "text/plain": [
       "<Figure size 432x288 with 1 Axes>"
      ]
     },
     "metadata": {
      "needs_background": "light"
     },
     "output_type": "display_data"
    }
   ],
   "source": [
    "plt.imshow(w.reshape((28,28)))"
   ]
  },
  {
   "cell_type": "code",
   "execution_count": 19,
   "metadata": {},
   "outputs": [
    {
     "data": {
      "text/plain": [
       "784"
      ]
     },
     "execution_count": 19,
     "metadata": {},
     "output_type": "execute_result"
    }
   ],
   "source": [
    "28*28"
   ]
  },
  {
   "cell_type": "code",
   "execution_count": null,
   "metadata": {},
   "outputs": [],
   "source": []
  }
 ],
 "metadata": {
  "kernelspec": {
   "display_name": "Python 3",
   "language": "python",
   "name": "python3"
  },
  "language_info": {
   "codemirror_mode": {
    "name": "ipython",
    "version": 3
   },
   "file_extension": ".py",
   "mimetype": "text/x-python",
   "name": "python",
   "nbconvert_exporter": "python",
   "pygments_lexer": "ipython3",
   "version": "3.7.7"
  }
 },
 "nbformat": 4,
 "nbformat_minor": 4
}
